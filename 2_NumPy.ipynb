{
  "cells": [
    {
      "cell_type": "markdown",
      "metadata": {
        "id": "view-in-github",
        "colab_type": "text"
      },
      "source": [
        "<a href=\"https://colab.research.google.com/github/SU-sumico/edsj/blob/main/2_NumPy.ipynb\" target=\"_parent\"><img src=\"https://colab.research.google.com/assets/colab-badge.svg\" alt=\"Open In Colab\"/></a>"
      ]
    },
    {
      "cell_type": "markdown",
      "metadata": {
        "id": "3-ewqmV8hszX"
      },
      "source": [
        "###### NumPyの基礎/NumPy basics\n",
        "\n",
        "* PythonにはNumPyという便利なライブラリがあります。 \n",
        "* NumPyを利⽤すると、Python標準のリスト型に⽐べて、多次元配列のデータを効率よく扱うことができます。\n",
        "* NumPyは標準偏差や分散といった統計量を出⼒してくれる関数が⽤意されており、科学技術計算の基盤となっています。\n",
        "---\n",
        "* Python has a useful library called NumPy. \n",
        "* Using NumPy, you can handle multidimensional array data more efficiently than the standard Python list type.\n",
        "* NumPy provides functions to output statistics such as standard deviation and variance, and is the basis for scientific and technical calculations."
      ]
    },
    {
      "cell_type": "markdown",
      "source": [
        "* Numpyを利⽤するには、まず次のようにインポートを⾏います。\n",
        "* To use Numpy, first import as follows."
      ],
      "metadata": {
        "id": "uf-VyTE9mamj"
      }
    },
    {
      "cell_type": "code",
      "execution_count": null,
      "metadata": {
        "id": "YGm0nN_vuWfY"
      },
      "outputs": [],
      "source": [
        "# Numpyライブラリを、npという別名で使用できるように宣言する\n",
        "# Declare the Numpy library to be available under the alias np\n",
        "import numpy as np"
      ]
    },
    {
      "cell_type": "markdown",
      "source": [
        "* Numpyには、ndarrayと呼ばれるデータ型が⽤意されています。 \n",
        "* ndarrayは一見すると、Python標準のリスト型（list）と似ていますが、ベクトルや⾏列のように、内部の要素を⼀括して計算できる便利な機能があります。\n",
        "---\n",
        "* Numpy provides a data type called ndarray. \n",
        "* At first glance, ndarray looks similar to the standard Python list type (list), but it has the useful feature of being able to compute all of its internal elements together, like a vector or an array."
      ],
      "metadata": {
        "id": "8t0y4BnvoGgL"
      }
    },
    {
      "cell_type": "code",
      "source": [
        "# arrayを定義する\n",
        "# Define array\n",
        "# リスト［1，2，3］をnp.array関数に渡して配列［1, 2, 3］を生成、display関数で表示させています。\n",
        "# The list [1, 2, 3] is passed to the np.array function to generate the array [1, 2, 3], which is then displayed by the display function.\n",
        "# display()はdataframe形式の表のレイアウトを保持してくれます。\n",
        "# display() preserves the layout of the table in dataframe format.\n",
        "\n",
        "ary = np.array([1, 2, 3])\n",
        "display( type(ary) )\n",
        "display( ary )"
      ],
      "metadata": {
        "colab": {
          "base_uri": "https://localhost:8080/",
          "height": 53
        },
        "id": "EqNBjOWKo9eF",
        "outputId": "0b01e2d2-b11a-4b3d-85fa-5b8fe3555a37"
      },
      "execution_count": null,
      "outputs": [
        {
          "output_type": "display_data",
          "data": {
            "text/plain": [
              "numpy.ndarray"
            ]
          },
          "metadata": {}
        },
        {
          "output_type": "display_data",
          "data": {
            "text/plain": [
              "array([1, 2, 3])"
            ]
          },
          "metadata": {}
        }
      ]
    },
    {
      "cell_type": "code",
      "source": [
        "# aryのすべての要素に5をかける\n",
        "# Multiply all elements of ary by 5\n",
        "ary * 5"
      ],
      "metadata": {
        "colab": {
          "base_uri": "https://localhost:8080/"
        },
        "id": "1f1vX-6h8VfB",
        "outputId": "fb9c2038-a5e2-423e-c52d-d8817392d5f9"
      },
      "execution_count": null,
      "outputs": [
        {
          "output_type": "execute_result",
          "data": {
            "text/plain": [
              "array([ 5, 10, 15])"
            ]
          },
          "metadata": {},
          "execution_count": 3
        }
      ]
    },
    {
      "cell_type": "markdown",
      "source": [
        "* ちなみに同じことをPython標準のリスト型でやろうとすると、全く結果が異なることを確認してみましょう。\n",
        "* By the way, let's check that if you try to do the same thing with the standard Python list type, the results will be completely different."
      ],
      "metadata": {
        "id": "u-yprBcV8pd9"
      }
    },
    {
      "cell_type": "code",
      "source": [
        "# リスト型の定義の仕方\n",
        "# How to define list type\n",
        "lst = [1, 2, 3 ]\n",
        "lst * 5"
      ],
      "metadata": {
        "colab": {
          "base_uri": "https://localhost:8080/"
        },
        "id": "jYK7E5kc8aiq",
        "outputId": "05959462-2b95-4867-eee5-9286f1045dd2"
      },
      "execution_count": null,
      "outputs": [
        {
          "output_type": "execute_result",
          "data": {
            "text/plain": [
              "[1, 2, 3, 1, 2, 3, 1, 2, 3, 1, 2, 3, 1, 2, 3]"
            ]
          },
          "metadata": {},
          "execution_count": 4
        }
      ]
    },
    {
      "cell_type": "markdown",
      "source": [
        "* なお、前述の ary * 5 では、ary内部の値を更新していませんので、もう⼀度ary の中⾝を表⽰させると、[5,10,15]ではなく、[1,2,3]のままなのが確認できます。\n",
        "* Note that the ary * 5 described above does not update the values inside the ary, so when the ary nave is displayed again, you can see that the values are still [1,2,3] instead of [5,10,15]."
      ],
      "metadata": {
        "id": "p5tkkxCK9kiZ"
      }
    },
    {
      "cell_type": "code",
      "source": [
        "ary"
      ],
      "metadata": {
        "colab": {
          "base_uri": "https://localhost:8080/"
        },
        "id": "vC-5JSYK82Dp",
        "outputId": "d87b2fd6-cec6-4731-ed67-89160cc842c5"
      },
      "execution_count": null,
      "outputs": [
        {
          "output_type": "execute_result",
          "data": {
            "text/plain": [
              "array([1, 2, 3])"
            ]
          },
          "metadata": {},
          "execution_count": 5
        }
      ]
    },
    {
      "cell_type": "markdown",
      "source": [
        "* ary内部の値を更新するには、以下のように = を使って、新たな値を代⼊してあげる必要があります。\n",
        "* この「値を更新したつもりで、実はしていなかった︕」というミスは、プログラミングに慣れるまで（むしろ慣れていても）結構やりがちな失敗なので気をつけましょう。\n",
        "---\n",
        "* To update the value inside the ary, a new value must be assigned using = as shown below.\n",
        "* This mistake, \"I thought I updated the value, but actually I didn't︕,\" is a mistake that people tend to make until they get used to programming (or rather, even if they are used to programming), so be careful."
      ],
      "metadata": {
        "id": "XWT4zWeV99mQ"
      }
    },
    {
      "cell_type": "code",
      "source": [
        "ary = ary * 5\n",
        "ary"
      ],
      "metadata": {
        "colab": {
          "base_uri": "https://localhost:8080/"
        },
        "id": "gYgKlTH89z9p",
        "outputId": "91c1cad9-d522-47d9-f805-39e6e38199d3"
      },
      "execution_count": null,
      "outputs": [
        {
          "output_type": "execute_result",
          "data": {
            "text/plain": [
              "array([ 5, 10, 15])"
            ]
          },
          "metadata": {},
          "execution_count": 6
        }
      ]
    },
    {
      "cell_type": "markdown",
      "source": [
        "######NumPyでの基礎統計量/Basic statistics in NumPy\n",
        "* 通常、標準偏差などを計算したい場合は⾃分で実装する必要がありますが、Numpyは基本的な統計量を計算する関数を⽤意しています。\n",
        "* Normally, if you want to calculate standard deviations, etc., you need to implement the functions yourself. Numpy provides functions to calculate basic statistics."
      ],
      "metadata": {
        "id": "idfSGzzu-c-Q"
      }
    },
    {
      "cell_type": "code",
      "source": [
        "# range関数で、0～9までの連続した整数値を生成する\n",
        "# Generate consecutive integer values from 0 to 9 with the range function.\n",
        "ary = np.array(range(10))\n",
        "ary"
      ],
      "metadata": {
        "colab": {
          "base_uri": "https://localhost:8080/"
        },
        "id": "oCqIUb-x-X3x",
        "outputId": "f0c64542-27f3-4103-dc8f-e25bc8c42101"
      },
      "execution_count": null,
      "outputs": [
        {
          "output_type": "execute_result",
          "data": {
            "text/plain": [
              "array([0, 1, 2, 3, 4, 5, 6, 7, 8, 9])"
            ]
          },
          "metadata": {},
          "execution_count": 7
        }
      ]
    },
    {
      "cell_type": "code",
      "source": [
        "# aryの平均値\n",
        "# Average value of ary\n",
        "ary.mean()"
      ],
      "metadata": {
        "colab": {
          "base_uri": "https://localhost:8080/"
        },
        "id": "KiQTLC13_D3-",
        "outputId": "2ee56605-af7b-4edc-9609-568f0971bb3c"
      },
      "execution_count": null,
      "outputs": [
        {
          "output_type": "execute_result",
          "data": {
            "text/plain": [
              "4.5"
            ]
          },
          "metadata": {},
          "execution_count": 8
        }
      ]
    },
    {
      "cell_type": "code",
      "source": [
        "# aryの分散\n",
        "# ary variance\n",
        "ary.var()"
      ],
      "metadata": {
        "colab": {
          "base_uri": "https://localhost:8080/"
        },
        "id": "DGTS-zs-_Sfb",
        "outputId": "f7e0df3c-138e-4054-f155-3a1db72981d9"
      },
      "execution_count": null,
      "outputs": [
        {
          "output_type": "execute_result",
          "data": {
            "text/plain": [
              "8.25"
            ]
          },
          "metadata": {},
          "execution_count": 9
        }
      ]
    },
    {
      "cell_type": "code",
      "source": [
        "# aryの標準偏差\n",
        "# Standard deviation of ary\n",
        "ary.std()"
      ],
      "metadata": {
        "colab": {
          "base_uri": "https://localhost:8080/"
        },
        "id": "8h4g8BRR_b_3",
        "outputId": "a622deb0-c46d-4db5-82ac-8be7087e9ae7"
      },
      "execution_count": null,
      "outputs": [
        {
          "output_type": "execute_result",
          "data": {
            "text/plain": [
              "2.8722813232690143"
            ]
          },
          "metadata": {},
          "execution_count": 10
        }
      ]
    },
    {
      "cell_type": "code",
      "source": [
        "# aryの最小値\n",
        "# Minimum value of ary\n",
        "ary.min()"
      ],
      "metadata": {
        "colab": {
          "base_uri": "https://localhost:8080/"
        },
        "id": "kmJAJEmz_rsP",
        "outputId": "b41e87bd-29f9-46df-d30f-e5856157cc9b"
      },
      "execution_count": null,
      "outputs": [
        {
          "output_type": "execute_result",
          "data": {
            "text/plain": [
              "0"
            ]
          },
          "metadata": {},
          "execution_count": 11
        }
      ]
    },
    {
      "cell_type": "code",
      "source": [
        "# aryの最大値\n",
        "# Maximum value of arry\n",
        "ary.max()"
      ],
      "metadata": {
        "colab": {
          "base_uri": "https://localhost:8080/"
        },
        "id": "TMM3fwgC_4I6",
        "outputId": "dca691f8-ddd6-4c1c-9be4-dbffdd7a1120"
      },
      "execution_count": null,
      "outputs": [
        {
          "output_type": "execute_result",
          "data": {
            "text/plain": [
              "9"
            ]
          },
          "metadata": {},
          "execution_count": 12
        }
      ]
    }
  ],
  "metadata": {
    "colab": {
      "provenance": [],
      "include_colab_link": true
    },
    "kernelspec": {
      "display_name": "Python 3",
      "language": "python",
      "name": "python3"
    },
    "language_info": {
      "codemirror_mode": {
        "name": "ipython",
        "version": 3
      },
      "file_extension": ".py",
      "mimetype": "text/x-python",
      "name": "python",
      "nbconvert_exporter": "python",
      "pygments_lexer": "ipython3",
      "version": "3.7.2"
    }
  },
  "nbformat": 4,
  "nbformat_minor": 0
}