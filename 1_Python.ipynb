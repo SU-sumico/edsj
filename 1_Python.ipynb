{
  "cells": [
    {
      "cell_type": "markdown",
      "metadata": {
        "id": "view-in-github",
        "colab_type": "text"
      },
      "source": [
        "<a href=\"https://colab.research.google.com/github/SU-sumico/edsj/blob/main/1_Python.ipynb\" target=\"_parent\"><img src=\"https://colab.research.google.com/assets/colab-badge.svg\" alt=\"Open In Colab\"/></a>"
      ]
    },
    {
      "cell_type": "markdown",
      "metadata": {
        "id": "kbswCri5freT"
      },
      "source": [
        "###### Pythonの基本文法（変数・リスト型）/Basic python syntax (variables and list types)"
      ]
    },
    {
      "cell_type": "markdown",
      "source": [
        "###### 変数の定義（ = ）/Variable definition ( = )\n",
        "* Pythonに限らずプログラミング言語全般で、データを保存しておくための変数というものが用意されています。\n",
        "* 変数は最初の文字がアルファベットか_であれば自由に名前をつけることができます。\n",
        "* 変数に値を代入するときには = の演算子を使います。\n",
        "---\n",
        "* Variables are used to store data, not only in Python, but in programming languages in general.\n",
        "* Variables can be named freely as long as the first letter of the variable name is a letter or _.\n",
        "* The = operator is used to assign a value to a variable."
      ],
      "metadata": {
        "id": "jpXaD_92sV25"
      }
    },
    {
      "cell_type": "code",
      "execution_count": 1,
      "metadata": {
        "id": "juQa2f_mnsWa"
      },
      "outputs": [],
      "source": [
        "num = 3"
      ]
    },
    {
      "cell_type": "markdown",
      "source": [
        "* Pythonで説明をコメントとして記述したり不要なコードをコメントアウトしたりする場合は#を使う。\n",
        "* In Python, use # to write descriptions as comments or to comment out unnecessary code."
      ],
      "metadata": {
        "id": "FLeWnBTe8PFo"
      }
    },
    {
      "cell_type": "code",
      "source": [
        "# 文字を書く場合には、文字の前後を \"(ダブルクォテーション) か '(シングルクォテーション) で囲んで記述します。\n",
        "# When writing characters, enclose them with \" (double quotation marks) or ' (single quotation marks) before and after the character.\n",
        "moji = \"abc\""
      ],
      "metadata": {
        "id": "vCTF3l3suYQh"
      },
      "execution_count": 2,
      "outputs": []
    },
    {
      "cell_type": "markdown",
      "source": [
        "* type()の()の中に変数名を⼊れることで、その変数のデータ型を確認できます。\n",
        "* By entering the variable name in the () of type(), you can check the data type of the variable."
      ],
      "metadata": {
        "id": "pTkbszKhzUc4"
      }
    },
    {
      "cell_type": "markdown",
      "source": [
        "* intはinteger\n",
        "* strはstrings\n",
        "---\n",
        "* int is an integer\n",
        "* str is strings"
      ],
      "metadata": {
        "id": "ZCtjsysf7db4"
      }
    },
    {
      "cell_type": "code",
      "source": [
        "type(num)"
      ],
      "metadata": {
        "colab": {
          "base_uri": "https://localhost:8080/"
        },
        "id": "gUf75uhWzX_S",
        "outputId": "2edbd60e-9847-4110-e629-38023ae69370"
      },
      "execution_count": 3,
      "outputs": [
        {
          "output_type": "execute_result",
          "data": {
            "text/plain": [
              "int"
            ]
          },
          "metadata": {},
          "execution_count": 3
        }
      ]
    },
    {
      "cell_type": "code",
      "source": [
        "type(moji)"
      ],
      "metadata": {
        "colab": {
          "base_uri": "https://localhost:8080/"
        },
        "id": "FwPU2bGFz3V4",
        "outputId": "1b6174eb-3481-4843-d4e7-2049a3ad9cb8"
      },
      "execution_count": 4,
      "outputs": [
        {
          "output_type": "execute_result",
          "data": {
            "text/plain": [
              "str"
            ]
          },
          "metadata": {},
          "execution_count": 4
        }
      ]
    },
    {
      "cell_type": "markdown",
      "source": [
        "* print()の()の中に変数名をいれると、変数に代⼊されたデータを表⽰することができます。\n",
        "\n",
        "* If you put a variable name in the () of print(), you can display the data entered into the variable."
      ],
      "metadata": {
        "id": "8rTVhEAavFiN"
      }
    },
    {
      "cell_type": "code",
      "source": [
        "print(num)\n",
        "print(moji)"
      ],
      "metadata": {
        "colab": {
          "base_uri": "https://localhost:8080/"
        },
        "id": "hAQpBL2tvQ1R",
        "outputId": "bf6abd67-f8a3-40ab-9915-eff37c7a3d77"
      },
      "execution_count": 5,
      "outputs": [
        {
          "output_type": "stream",
          "name": "stdout",
          "text": [
            "3\n",
            "abc\n"
          ]
        }
      ]
    },
    {
      "cell_type": "markdown",
      "source": [
        "######リスト型（list）/List type (list) \n",
        "* 先ほどは変数にデータを保存しましたが、⼀つの変数に複数のデータを⼊れたい場合があります。そのときに使うのが リスト型（list)になります。\n",
        "\n",
        "* In the previous example, data was stored in a variable, but there are cases where you want to put multiple data into a single variable. In this case, the list type (list) is used."
      ],
      "metadata": {
        "id": "KCrjrkB7ud8g"
      }
    },
    {
      "cell_type": "code",
      "source": [
        "# リスト型の定義の仕方、鍵括弧を使います\n",
        "# How to define a list type, Use square brackets\n",
        "lst = [10, 20, 30, 40, 50]"
      ],
      "metadata": {
        "id": "TrHrn78Lu0KQ"
      },
      "execution_count": 6,
      "outputs": []
    },
    {
      "cell_type": "markdown",
      "source": [
        "* リストの中の各データを要素と呼びます。\n",
        "* 最初の要素には0、次の要素には1というように各要素にはインデックス（添字）と呼ばれる番号が自動的に振られています（インデックスの最初が0番から始まることに注意してください）そのインデックスを指定することで、リストの要素を取り出すことができます。\n",
        "---\n",
        "* Each piece of data in the list is called an element.\n",
        "* Each element is numbered automatically with an index, 0 for the first element, 1 for the next, and so on. (Note that the first index starts with 0.) By specifying the index, you can retrieve the elements of the list."
      ],
      "metadata": {
        "id": "jxFdp4YU1yfg"
      }
    },
    {
      "cell_type": "code",
      "source": [
        "# リストから3番目の要素を取り出す(3番目の要素の添字は2になる)\n",
        "# Takes out the third element from the list (the third element is indexed by 2)\n",
        "lst[2]"
      ],
      "metadata": {
        "colab": {
          "base_uri": "https://localhost:8080/"
        },
        "id": "vovGh-a32kvo",
        "outputId": "aad8c750-0630-416b-d833-2c600ba28464"
      },
      "execution_count": 7,
      "outputs": [
        {
          "output_type": "execute_result",
          "data": {
            "text/plain": [
              "30"
            ]
          },
          "metadata": {},
          "execution_count": 7
        }
      ]
    },
    {
      "cell_type": "markdown",
      "source": [
        "* listの後半の要素を取得したい場合などは、-(マイナス) を使ってインデックスを指定することで、最後から○番⽬の値を取得することができます。\n",
        "\n",
        "* If you want to get an element in the latter half of the list, you can use - (minus) to specify the index to get the XX-th value from the end."
      ],
      "metadata": {
        "id": "AJJ0scDB3aLA"
      }
    },
    {
      "cell_type": "code",
      "source": [
        "lst[-1]"
      ],
      "metadata": {
        "colab": {
          "base_uri": "https://localhost:8080/"
        },
        "id": "nzhgZTtQ2sFr",
        "outputId": "b937e200-fa7c-4c10-f6ec-72c45827e3da"
      },
      "execution_count": 8,
      "outputs": [
        {
          "output_type": "execute_result",
          "data": {
            "text/plain": [
              "50"
            ]
          },
          "metadata": {},
          "execution_count": 8
        }
      ]
    },
    {
      "cell_type": "markdown",
      "source": [
        "* スライシング（slicing）と呼ばれる⽅法で、複数のデータを取り出してくることができます。\n",
        "\n",
        "* Multiple data can be retrieved by a method called slicing."
      ],
      "metadata": {
        "id": "pdFRTH-96s6A"
      }
    },
    {
      "cell_type": "markdown",
      "source": [
        "* https://qiita.com/Mayumi_Pythonista/items/6bae214755dfeb8d7353"
      ],
      "metadata": {
        "id": "7SFveMhywxG7"
      }
    },
    {
      "cell_type": "code",
      "source": [
        "# 1番目から3番目までのデータを取り出す\n",
        "# Extract the first through third data\n",
        "# list[最初のインデックス:最後のインデックス]\n",
        "# list[first index:last index]\n",
        "lst[1: 4]"
      ],
      "metadata": {
        "colab": {
          "base_uri": "https://localhost:8080/"
        },
        "id": "AOgTVEef6455",
        "outputId": "9ceb76a7-b684-4085-ce82-194ad5258e47"
      },
      "execution_count": 10,
      "outputs": [
        {
          "output_type": "execute_result",
          "data": {
            "text/plain": [
              "[20, 30, 40]"
            ]
          },
          "metadata": {},
          "execution_count": 10
        }
      ]
    },
    {
      "cell_type": "markdown",
      "source": [
        "* 注釈︓ スライシングで範囲指定した際に、左端の要素は含みますが、右端の要素は含まれないことに注意してください。\n",
        "\n",
        "* Note ︓ Note that when a range is specified with slicing, the leftmost element is included, but the rightmost element is not. "
      ],
      "metadata": {
        "id": "gY_y57057Hbo"
      }
    },
    {
      "cell_type": "code",
      "source": [
        "# 最初から4番目の要素まで取り出す\n",
        "# Extract up to the fourth element from the first\n",
        "lst[: 4]"
      ],
      "metadata": {
        "colab": {
          "base_uri": "https://localhost:8080/"
        },
        "id": "LmGeUP7I7cYI",
        "outputId": "7549ca15-592b-4d73-9934-4c09f5957d42"
      },
      "execution_count": 11,
      "outputs": [
        {
          "output_type": "execute_result",
          "data": {
            "text/plain": [
              "[10, 20, 30, 40]"
            ]
          },
          "metadata": {},
          "execution_count": 11
        }
      ]
    },
    {
      "cell_type": "code",
      "source": [
        "# 3番目の要素から最後の要素まで取り出す\n",
        "# Extract from the third element to the last element\n",
        "lst[2: ]"
      ],
      "metadata": {
        "colab": {
          "base_uri": "https://localhost:8080/"
        },
        "id": "1YseFm8f7c0t",
        "outputId": "fad51d1f-356f-441a-eba6-070aea7c935b"
      },
      "execution_count": 12,
      "outputs": [
        {
          "output_type": "execute_result",
          "data": {
            "text/plain": [
              "[30, 40, 50]"
            ]
          },
          "metadata": {},
          "execution_count": 12
        }
      ]
    }
  ],
  "metadata": {
    "colab": {
      "provenance": [],
      "include_colab_link": true
    },
    "kernelspec": {
      "display_name": "Python 3",
      "language": "python",
      "name": "python3"
    },
    "language_info": {
      "codemirror_mode": {
        "name": "ipython",
        "version": 3
      },
      "file_extension": ".py",
      "mimetype": "text/x-python",
      "name": "python",
      "nbconvert_exporter": "python",
      "pygments_lexer": "ipython3",
      "version": "3.7.9"
    }
  },
  "nbformat": 4,
  "nbformat_minor": 0
}